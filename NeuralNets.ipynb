{
  "metadata": {
    "kernelspec": {
      "name": "python",
      "display_name": "Python (Pyodide)",
      "language": "python"
    },
    "language_info": {
      "codemirror_mode": {
        "name": "python",
        "version": 3
      },
      "file_extension": ".py",
      "mimetype": "text/x-python",
      "name": "python",
      "nbconvert_exporter": "python",
      "pygments_lexer": "ipython3",
      "version": "3.8"
    }
  },
  "nbformat_minor": 4,
  "nbformat": 4,
  "cells": [
    {
      "cell_type": "markdown",
      "source": "# 1.2: sigmoid ",
      "metadata": {}
    },
    {
      "cell_type": "code",
      "source": "import numpy as np\n%matplotlib inline\nimport matplotlib.pyplot as plt\n\n\nclass Neural_Network(object):\n    def __init__(self):\n        #Define Parameters\n        self.inputLayerSize = 2\n        self.outputLayerSize=1\n        self.hiddenLayerSize=3\n        \n        #Define Weights\n        self.W1=np.random.rand(self.inputLayerSize,self.hiddenLayerSize)\n        self.W2=np.random.rand(self.hiddenLayerSize,self.outputLayerSize)\n\n    def forward(self,X):\n        #Propagate inputs through network\n        self.z2 = np.dot(X,self.W1)\n        self.a2 = self.sigmoid(self.z2)\n        self.z3 = np.dot(self.a2,self.W2)\n        yHat = self.sigmoid(self.z3)\n        return yHat\n    \n    def sigmoid(self, z):\n        #Apply Sigmoid Activation Function\n        return 1/(1+np.exp(-z))\n    \n    def sigmoidPrime(self,z):\n        #Derivative of Sigmoid Function\n        return np.exp(-z)/((1+np.exp(-z))**2)\n    \n    def relu(self, z):\n        return np.maximum(0, z)\n    \n    def reluPrime(self,z):\n        return 1 * (z > 0)\n    \n    def costFunction(self, X, y):\n        #Compute Cost Function with weights already stored in class\n        self.yHat=self.forward(X)\n        J=0.5*sum((y-self.yHat)**2)\n        return J\n    \n    def costFunctionPrime(self, X, y):\n        #Compute derivatives with respect to W1 and W2\n        self.yHat=self.forward(X)\n        delta3 = np.multiply(-(y-self.yHat),self.sigmoidPrime(self.z3))\n        dJdW2=np.dot(self.a2.T,delta3)\n        delta2=np.dot(delta3,self.W2.T)*self.sigmoidPrime(self.z2)\n        dJdW1=np.dot(X.T,delta2)\n        return dJdW1,dJdW2\n    ",
      "metadata": {
        "trusted": true
      },
      "execution_count": 1,
      "outputs": []
    },
    {
      "cell_type": "code",
      "source": "X=np.array(([3,5],[5,1],[10,1]),dtype=float)\ny=np.array(([75],[80],[93]),dtype=float)",
      "metadata": {
        "trusted": true
      },
      "execution_count": 2,
      "outputs": []
    },
    {
      "cell_type": "code",
      "source": "X\n",
      "metadata": {
        "trusted": true
      },
      "execution_count": 3,
      "outputs": [
        {
          "execution_count": 3,
          "output_type": "execute_result",
          "data": {
            "text/plain": "array([[ 3.,  5.],\n       [ 5.,  1.],\n       [10.,  1.]])"
          },
          "metadata": {}
        }
      ]
    },
    {
      "cell_type": "code",
      "source": "y",
      "metadata": {
        "trusted": true
      },
      "execution_count": 4,
      "outputs": [
        {
          "execution_count": 4,
          "output_type": "execute_result",
          "data": {
            "text/plain": "array([[75.],\n       [80.],\n       [93.]])"
          },
          "metadata": {}
        }
      ]
    },
    {
      "cell_type": "code",
      "source": "X=X/np.amax(X,axis=0)\ny=y/100",
      "metadata": {
        "trusted": true
      },
      "execution_count": 5,
      "outputs": []
    },
    {
      "cell_type": "code",
      "source": "X,y\n",
      "metadata": {
        "trusted": true
      },
      "execution_count": 6,
      "outputs": [
        {
          "execution_count": 6,
          "output_type": "execute_result",
          "data": {
            "text/plain": "(array([[0.3, 1. ],\n        [0.5, 0.2],\n        [1. , 0.2]]),\n array([[0.75],\n        [0.8 ],\n        [0.93]]))"
          },
          "metadata": {}
        }
      ]
    },
    {
      "cell_type": "code",
      "source": "NNS=Neural_Network()",
      "metadata": {
        "trusted": true
      },
      "execution_count": 7,
      "outputs": []
    },
    {
      "cell_type": "code",
      "source": "yH=NNS.forward(X)",
      "metadata": {
        "trusted": true
      },
      "execution_count": 8,
      "outputs": []
    },
    {
      "cell_type": "code",
      "source": "yH",
      "metadata": {
        "trusted": true
      },
      "execution_count": 9,
      "outputs": [
        {
          "execution_count": 9,
          "output_type": "execute_result",
          "data": {
            "text/plain": "array([[0.67314024],\n       [0.66668939],\n       [0.67672649]])"
          },
          "metadata": {}
        }
      ]
    },
    {
      "cell_type": "code",
      "source": "y",
      "metadata": {
        "trusted": true
      },
      "execution_count": 10,
      "outputs": [
        {
          "execution_count": 10,
          "output_type": "execute_result",
          "data": {
            "text/plain": "array([[0.75],\n       [0.8 ],\n       [0.93]])"
          },
          "metadata": {}
        }
      ]
    },
    {
      "cell_type": "code",
      "source": "testValues=np.arange(-5,5,0.01)\nplt.plot(testValues,NNS.sigmoid(testValues),linewidth=2)\nplt.plot(testValues, NNS.sigmoidPrime(testValues),linewidth=2)\nplt.grid(1)\nplt.legend(['Sigmoid','SigmoidPrime'])\n",
      "metadata": {
        "trusted": true
      },
      "execution_count": 11,
      "outputs": [
        {
          "execution_count": 11,
          "output_type": "execute_result",
          "data": {
            "text/plain": "<matplotlib.legend.Legend at 0x33ebe90>"
          },
          "metadata": {}
        },
        {
          "output_type": "display_data",
          "data": {
            "text/plain": "<Figure size 640x480 with 1 Axes>",
            "image/png": "[encoded data removed]"
          },
          "metadata": {}
        }
      ]
    },
    {
      "cell_type": "code",
      "source": "NNS=Neural_Network()",
      "metadata": {
        "trusted": true
      },
      "execution_count": 12,
      "outputs": []
    },
    {
      "cell_type": "code",
      "source": "cost1=NNS.costFunction(X,y)",
      "metadata": {
        "trusted": true
      },
      "execution_count": 13,
      "outputs": []
    },
    {
      "cell_type": "code",
      "source": "cost1",
      "metadata": {
        "trusted": true
      },
      "execution_count": 14,
      "outputs": [
        {
          "execution_count": 14,
          "output_type": "execute_result",
          "data": {
            "text/plain": "array([0.01872412])"
          },
          "metadata": {}
        }
      ]
    },
    {
      "cell_type": "code",
      "source": "dJdW1,dJdW2=NNS.costFunctionPrime(X,y)",
      "metadata": {
        "trusted": true
      },
      "execution_count": 15,
      "outputs": []
    },
    {
      "cell_type": "code",
      "source": "dJdW1",
      "metadata": {
        "trusted": true
      },
      "execution_count": 16,
      "outputs": [
        {
          "execution_count": 16,
          "output_type": "execute_result",
          "data": {
            "text/plain": "array([[-0.00496544, -0.00551173, -0.00483843],\n       [-0.00090661, -0.0009859 , -0.00083348]])"
          },
          "metadata": {}
        }
      ]
    },
    {
      "cell_type": "code",
      "source": "dJdW2",
      "metadata": {
        "trusted": true
      },
      "execution_count": 17,
      "outputs": [
        {
          "execution_count": 17,
          "output_type": "execute_result",
          "data": {
            "text/plain": "array([[-0.02578022],\n       [-0.02997234],\n       [-0.02824863]])"
          },
          "metadata": {}
        }
      ]
    },
    {
      "cell_type": "code",
      "source": "scalar=1\nNNS.W1 = NNS.W1+scalar*dJdW1\nNNS.W2 = NNS.W2+scalar*dJdW2\ncost2 = NNS.costFunction(X,y)\nprint (cost1,cost2)",
      "metadata": {
        "trusted": true
      },
      "execution_count": 18,
      "outputs": [
        {
          "name": "stdout",
          "text": "[0.01872412] [0.02136227]\n",
          "output_type": "stream"
        }
      ]
    },
    {
      "cell_type": "code",
      "source": "scalar=0.1\nNNS.W1 = NNS.W1-scalar*dJdW1\nNNS.W2 = NNS.W2-scalar*dJdW2\ncost3 = NNS.costFunction(X,y)\nprint (cost2,cost3)",
      "metadata": {
        "trusted": true
      },
      "execution_count": 19,
      "outputs": [
        {
          "name": "stdout",
          "text": "[0.02136227] [0.02108048]\n",
          "output_type": "stream"
        }
      ]
    },
    {
      "cell_type": "code",
      "source": "\n",
      "metadata": {
        "trusted": true
      },
      "execution_count": null,
      "outputs": []
    },
    {
      "cell_type": "code",
      "source": "",
      "metadata": {
        "trusted": true
      },
      "execution_count": null,
      "outputs": []
    },
    {
      "cell_type": "code",
      "source": "",
      "metadata": {
        "trusted": true
      },
      "execution_count": null,
      "outputs": []
    },
    {
      "cell_type": "code",
      "source": "",
      "metadata": {},
      "execution_count": null,
      "outputs": []
    },
    {
      "cell_type": "code",
      "source": "scalar = 3\ndata = []\n\nNNS = Neural_Network()\ncost = NNS.costFunction(X,y)\n\nwhile (cost > 0.001): \n    dJdW1,dJdW2=NNS.costFunctionPrime(X,y) \n    NNS.W1 = NNS.W1-scalar*dJdW1\n    NNS.W2 = NNS.W2-scalar*dJdW2\n    cost = NNS.costFunction(X,y) \n    data.append(cost)\n    \n    #if (scalar > 9): \n      #  scalar -= 1\n        \nwhile (cost < 0.01): \n    dJdW1,dJdW2=NNS.costFunctionPrime(X,y) \n    NNS.W1 = NNS.W1+scalar*dJdW1\n    NNS.W2 = NNS.W2+scalar*dJdW2\n    cost = NNS.costFunction(X,y) \n    data.append(cost)\n\nyHat = NNS.forward(X)\n        \nyHat\n\nplt.plot(data)\nplt.title('Cost & Iteration')",
      "metadata": {
        "tags": [],
        "trusted": true
      },
      "execution_count": 20,
      "outputs": [
        {
          "execution_count": 20,
          "output_type": "execute_result",
          "data": {
            "text/plain": "Text(0.5, 1.0, 'Cost & Iteration')"
          },
          "metadata": {}
        },
        {
          "output_type": "display_data",
          "data": {
            "text/plain": "<Figure size 640x480 with 1 Axes>",
            "image/png": "[encoded data removed]"
          },
          "metadata": {}
        }
      ]
    },
    {
      "cell_type": "markdown",
      "source": "\n# 1.3: Relu ",
      "metadata": {}
    },
    {
      "cell_type": "code",
      "source": "class r_Neural_Network(object):\n    def __init__(self):\n        #Define Parameters\n        self.inputLayerSize = 2\n        self.outputLayerSize=1\n        self.hiddenLayerSize=3\n        \n        \n        #Define Weights\n        self.W1=np.random.rand(self.inputLayerSize,self.hiddenLayerSize)\n        self.W2=np.random.rand(self.hiddenLayerSize,self.outputLayerSize)\n        \n\n    def reluforward(self,X):\n        #Propagate inputs through network\n        self.z2 = np.dot(X,self.W1)\n        self.a2 = self.relu(self.z2)\n        self.z3 = np.dot(self.a2,self.W2)\n        yHat = self.sigmoid(self.z3)\n        return yHat\n    \n    def sigmoid(self, z):\n        #Apply Sigmoid Activation Function\n        return 1/(1+np.exp(-z))\n    \n    def sigmoidPrime(self,z):\n        #Derivative of Sigmoid Function\n        return np.exp(-z)/((1+np.exp(-z))**2)\n    \n    def relu(self, z):\n        return np.maximum(0, z)\n    \n    def reluPrime(self,z):\n        return 1 * (z > 0)\n    \n    def relucostFunction(self, X, y):\n        #Compute Cost Function with weights already stored in class\n        self.yHat=self.reluforward(X)\n        J=0.5*sum((y-self.yHat)**2)\n        return J\n    \n    def relucostFunctionPrime(self, X, y):\n        #Compute derivatives with respect to W1 and W2\n        self.yHat=self.reluforward(X)\n        delta3 = np.multiply(-(y-self.yHat),self.reluPrime(self.z3))\n        dJdW2=np.dot(self.a2.T,delta3)\n        delta2=np.dot(delta3,self.W2.T)*self.reluPrime(self.z2)\n        dJdW1=np.dot(X.T,delta2)\n        return dJdW1,dJdW2\n    \n",
      "metadata": {
        "trusted": true
      },
      "execution_count": 21,
      "outputs": []
    },
    {
      "cell_type": "code",
      "source": "",
      "metadata": {},
      "execution_count": null,
      "outputs": []
    },
    {
      "cell_type": "code",
      "source": "scalar = 0.1\ndata = []\n\nNNR = r_Neural_Network()\ncost = NNR.relucostFunction(X,y)\n\nwhile (cost > 0.001): \n    dJdW1,dJdW2=NNR.relucostFunctionPrime(X,y) \n    NNR.W1 = NNR.W1-scalar*dJdW1\n    NNR.W2 = NNR.W2-scalar*dJdW2\n    cost = NNR.relucostFunction(X,y) \n    data.append(cost)\n    \n    #if (scalar > 9): \n      #  scalar -= 1\n        \n\n\nyHat = NNR.reluforward(X)\n        \nyHat\n\nplt.plot(data)\nplt.title('Cost & Iteration')",
      "metadata": {
        "trusted": true
      },
      "execution_count": 22,
      "outputs": [
        {
          "execution_count": 22,
          "output_type": "execute_result",
          "data": {
            "text/plain": "Text(0.5, 1.0, 'Cost & Iteration')"
          },
          "metadata": {}
        },
        {
          "output_type": "display_data",
          "data": {
            "text/plain": "<Figure size 640x480 with 1 Axes>",
            "image/png": "[encoded data removed]"
          },
          "metadata": {}
        }
      ]
    },
    {
      "cell_type": "markdown",
      "source": "# 1.3: Relu with hidden layers",
      "metadata": {}
    },
    {
      "cell_type": "code",
      "source": "#Adding another hidden layer \nclass r_Neural_Network_HL(object):\n    def __init__(self):\n        #Define Parameters\n        self.inputLayerSize = 2\n        self.outputLayerSize=1\n        self.hiddenLayer1Size=3\n        self.hiddenLayer2Size=3\n    \n        self.costList = []\n        #Define Weights\n        self.W1=np.random.rand(self.inputLayerSize,self.hiddenLayer1Size)\n        self.W2=np.random.rand(self.hiddenLayer1Size,self.hiddenLayer2Size)\n        self.W3=np.random.rand(self.hiddenLayer2Size,self.outputLayerSize)\n\n    def reluforward_HL(self,X):\n        #Propagate inputs through network\n        self.z1 = np.dot(X,self.W1)\n        self.a1 = self.relu(self.z1)\n        self.z2 = np.dot(self.a1, self.W2)\n        self.a2 = self.relu(self.z2)\n        self.z3 = np.dot(self.a2,self.W3)\n        yHat = self.sigmoid(self.z3)\n        return yHat\n    \n    def sigmoid(self, z):\n        #Apply Sigmoid Activation Function\n        return 1/(1+np.exp(-z))\n    \n    def sigmoidPrime(self,z):\n        #Derivative of Sigmoid Function\n        return np.exp(-z)/((1+np.exp(-z))**2)\n    \n    def relu(self, z):\n        return np.maximum(0, z)\n    \n    def reluPrime(self,z):\n        return 1 * (z > 0)\n    \n    def relucostFunction_HL(self, X, y):\n        #Compute Cost Function with weights already stored in class\n        self.yHat=self.reluforward_HL(X)\n        J=0.5*sum((y-self.yHat)**2)\n        return J\n    \n    def relucostFunctionPrime_HL(self, X, y):\n        #Compute derivatives with respect to W1 and W2\n        self.yHat=self.reluforward_HL(X)\n        delta3 = np.multiply(-(y-self.yHat),self.sigmoidPrime(self.z3))\n        dJdW3 = np.dot(self.a2.T,delta3)\n        delta2 = np.dot(delta3,self.W3.T)*self.reluPrime(self.z2)\n        dJdW2 = np.dot(self.a1.T,delta2)\n        delta1 = np.dot(delta2,self.W2.T)*self.reluPrime(self.z1)\n        dJdW1 = np.dot(X.T,delta1)\n        return dJdW1,dJdW2,dJdW3",
      "metadata": {
        "trusted": true
      },
      "execution_count": 147,
      "outputs": []
    },
    {
      "cell_type": "code",
      "source": "X=np.array(([3,5],[5,1],[10,1]),dtype=float)\ny=np.array(([75],[80],[93]),dtype=float)\nX=X/np.amax(X,axis=0)\ny=y/100\nNN7=r_Neural_Network_HL()\nyH=NN7.reluforward_HL(X)",
      "metadata": {
        "trusted": true
      },
      "execution_count": 148,
      "outputs": []
    },
    {
      "cell_type": "code",
      "source": "def plotNNCost(NN):\n    iterArr = np.arange(1, len(NN.costList)+1)\n    plt.plot(iterArr,NN.costList)\n    plt.title(\"Neural Net Cost vs. Iteration\")\n    plt.xlabel(\"Iteration\")\n    plt.ylabel(\"Cost\")",
      "metadata": {
        "trusted": true
      },
      "execution_count": 149,
      "outputs": []
    },
    {
      "cell_type": "code",
      "source": "np.random.seed(27)\n#NN7.hiddenLayer2Size=3\n#NN7.W3= np.random.rand(NN7.hiddenLayer1Size, NN7.hiddenLayer2Size)\n#NN7.W2= np.random.rand(NN7.hiddenLayer2Size, NN7.outputLayerSize)",
      "metadata": {
        "trusted": true
      },
      "execution_count": 150,
      "outputs": []
    },
    {
      "cell_type": "code",
      "source": "NN7.hiddenLayer2Size,NN7.W3, NN7.W2",
      "metadata": {
        "trusted": true
      },
      "execution_count": 151,
      "outputs": [
        {
          "execution_count": 151,
          "output_type": "execute_result",
          "data": {
            "text/plain": "(3,\n array([[0.64889995],\n        [0.91097121],\n        [0.12165793]]),\n array([[0.5202925 , 0.87736578, 0.92388931],\n        [0.48923016, 0.59621396, 0.26427542],\n        [0.9917109 , 0.21039796, 0.58337008]]))"
          },
          "metadata": {}
        }
      ]
    },
    {
      "cell_type": "code",
      "source": "scalar = 0.1\ndata = []\n\n#NN = r_Neural_Network_HL()\nindex = 0\nwhile (1 -  NN7.relucostFunction_HL(X,y) < 0.999): \n    index += 1\n    dJdW1,dJdW2,dJdW3=NN7.relucostFunctionPrime_HL(X,y) \n    NN7.W1 = NN7.W1-scalar*dJdW1\n    NN7.W2 = NN7.W2-scalar*dJdW2\n    NN7.W3 = NN7.W3-scalar*dJdW3\n    cost = NN7.relucostFunction_HL(X,y)\n    data.append(cost)\n    \n    #if (scalar > 9): \n      #  scalar -= 1\n        \n\n\nyHat = NN7.reluforward_HL(X)",
      "metadata": {
        "trusted": true
      },
      "execution_count": 152,
      "outputs": []
    },
    {
      "cell_type": "code",
      "source": "yH",
      "metadata": {
        "trusted": true
      },
      "execution_count": 153,
      "outputs": [
        {
          "execution_count": 153,
          "output_type": "execute_result",
          "data": {
            "text/plain": "array([[0.93022178],\n       [0.79227664],\n       [0.90647189]])"
          },
          "metadata": {}
        }
      ]
    },
    {
      "cell_type": "code",
      "source": "y",
      "metadata": {
        "trusted": true
      },
      "execution_count": 154,
      "outputs": [
        {
          "execution_count": 154,
          "output_type": "execute_result",
          "data": {
            "text/plain": "array([[0.75],\n       [0.8 ],\n       [0.93]])"
          },
          "metadata": {}
        }
      ]
    },
    {
      "cell_type": "code",
      "source": "index",
      "metadata": {
        "trusted": true
      },
      "execution_count": 155,
      "outputs": [
        {
          "execution_count": 155,
          "output_type": "execute_result",
          "data": {
            "text/plain": "579"
          },
          "metadata": {}
        }
      ]
    },
    {
      "cell_type": "code",
      "source": "#trainReluNN2(NN7, X, y, 3)\n#testNN(NN7, X, y), \n#plotNNCost(NN7)",
      "metadata": {
        "trusted": true
      },
      "execution_count": 156,
      "outputs": []
    },
    {
      "cell_type": "code",
      "source": "#Adding another hidden layer: 10 units\nclass r_Neural_Network_HL(object):\n    def __init__(self):\n        #Define Parameters\n        self.inputLayerSize = 2\n        self.outputLayerSize=1\n        self.hiddenLayer1Size=3\n        self.hiddenLayer2Size=10\n    \n        self.costList = []\n        #Define Weights\n        self.W1=np.random.rand(self.inputLayerSize,self.hiddenLayer1Size)\n        self.W2=np.random.rand(self.hiddenLayer1Size,self.hiddenLayer2Size)\n        self.W3=np.random.rand(self.hiddenLayer2Size,self.outputLayerSize)\n\n    def reluforward_HL(self,X):\n        #Propagate inputs through network\n        self.z1 = np.dot(X,self.W1)\n        self.a1 = self.relu(self.z1)\n        self.z2 = np.dot(self.a1, self.W2)\n        self.a2 = self.relu(self.z2)\n        self.z3 = np.dot(self.a2,self.W3)\n        yHat = self.sigmoid(self.z3)\n        return yHat\n    \n    def sigmoid(self, z):\n        #Apply Sigmoid Activation Function\n        return 1/(1+np.exp(-z))\n    \n    def sigmoidPrime(self,z):\n        #Derivative of Sigmoid Function\n        return np.exp(-z)/((1+np.exp(-z))**2)\n    \n    def relu(self, z):\n        return np.maximum(0, z)\n    \n    def reluPrime(self,z):\n        return 1 * (z > 0)\n    \n    def relucostFunction_HL(self, X, y):\n        #Compute Cost Function with weights already stored in class\n        self.yHat=self.reluforward_HL(X)\n        J=0.5*sum((y-self.yHat)**2)\n        return J\n    \n    def relucostFunctionPrime_HL(self, X, y):\n        #Compute derivatives with respect to W1 and W2\n        self.yHat=self.reluforward_HL(X)\n        delta3 = np.multiply(-(y-self.yHat),self.sigmoidPrime(self.z3))\n        dJdW3 = np.dot(self.a2.T,delta3)\n        delta2 = np.dot(delta3,self.W3.T)*self.reluPrime(self.z2)\n        dJdW2 = np.dot(self.a1.T,delta2)\n        delta1 = np.dot(delta2,self.W2.T)*self.reluPrime(self.z1)\n        dJdW1 = np.dot(X.T,delta1)\n        return dJdW1,dJdW2,dJdW3",
      "metadata": {
        "trusted": true
      },
      "execution_count": 157,
      "outputs": []
    },
    {
      "cell_type": "code",
      "source": "np.random.seed(27)\nNN8 = r_Neural_Network_HL()",
      "metadata": {
        "trusted": true
      },
      "execution_count": 158,
      "outputs": []
    },
    {
      "cell_type": "code",
      "source": "NN8.hiddenLayer2Size,NN8.W1, NN8.W2",
      "metadata": {
        "trusted": true
      },
      "execution_count": 159,
      "outputs": [
        {
          "execution_count": 159,
          "output_type": "execute_result",
          "data": {
            "text/plain": "(10,\n array([[0.42572141, 0.81458374, 0.73539729],\n        [0.8680032 , 0.38338077, 0.97945663]]),\n array([[0.89319435, 0.20971517, 0.74182765, 0.66314332, 0.88680146,\n         0.85801271, 0.74926221, 0.87014472, 0.18675584, 0.32556672],\n        [0.37293743, 0.79371303, 0.15106027, 0.1699427 , 0.08116909,\n         0.30517534, 0.7832898 , 0.16290618, 0.0706413 , 0.70107117],\n        [0.18097988, 0.59891725, 0.41526365, 0.51357225, 0.22065617,\n         0.72557301, 0.84943495, 0.92889283, 0.73594004, 0.47658724]]))"
          },
          "metadata": {}
        }
      ]
    },
    {
      "cell_type": "code",
      "source": "scalar = 0.1\ndata = []\n\n#NN = r_Neural_Network_HL()\nindex = 0\nwhile (1 -  NN8.relucostFunction_HL(X,y) < 0.999): \n    index += 1\n    dJdW1,dJdW2,dJdW3=NN8.relucostFunctionPrime_HL(X,y) \n    NN8.W1 = NN8.W1-scalar*dJdW1\n    NN8.W2 = NN8.W2-scalar*dJdW2\n    NN8.W3 = NN8.W3-scalar*dJdW3\n    cost = NN8.relucostFunction_HL(X,y)\n    data.append(cost)\n    \n    #if (scalar > 9): \n      #  scalar -= 1\n        \n\n\nyHat = NN8.reluforward_HL(X)",
      "metadata": {
        "trusted": true
      },
      "execution_count": 160,
      "outputs": []
    },
    {
      "cell_type": "code",
      "source": "yH",
      "metadata": {
        "trusted": true
      },
      "execution_count": 161,
      "outputs": [
        {
          "execution_count": 161,
          "output_type": "execute_result",
          "data": {
            "text/plain": "array([[0.93022178],\n       [0.79227664],\n       [0.90647189]])"
          },
          "metadata": {}
        }
      ]
    },
    {
      "cell_type": "code",
      "source": "y",
      "metadata": {
        "trusted": true
      },
      "execution_count": 162,
      "outputs": [
        {
          "execution_count": 162,
          "output_type": "execute_result",
          "data": {
            "text/plain": "array([[0.75],\n       [0.8 ],\n       [0.93]])"
          },
          "metadata": {}
        }
      ]
    },
    {
      "cell_type": "code",
      "source": "index",
      "metadata": {
        "trusted": true
      },
      "execution_count": 163,
      "outputs": [
        {
          "execution_count": 163,
          "output_type": "execute_result",
          "data": {
            "text/plain": "609"
          },
          "metadata": {}
        }
      ]
    },
    {
      "cell_type": "code",
      "source": "#trainReluNN2(NN8, X, y, 3)\n#testNN(NN8, X, y), \n#plotNNCost(NN8)",
      "metadata": {
        "trusted": true
      },
      "execution_count": 164,
      "outputs": []
    },
    {
      "cell_type": "markdown",
      "source": "# 1.4: Relu with hidden layers",
      "metadata": {}
    },
    {
      "cell_type": "code",
      "source": "NN1 = Neural_Network()\nNN2 = Neural_Network()",
      "metadata": {
        "trusted": true
      },
      "execution_count": 37,
      "outputs": []
    },
    {
      "cell_type": "code",
      "source": "#Minimize 1st NN\nnum_iterations = 0\ncosts = []\nwhile 1 - NN1.costFunction(X, y) < .999:\n    dJdW1, dJdW2 = NN1.costFunctionPrime(X, y)\n    NN1.W1 = NN1.W1 - scalar*dJdW1\n    NN1.W2 = NN1.W2 - scalar*dJdW2\n    cost = NN1.costFunction(X, y)\n    costs.append(cost)\n    num_iterations += 1\niterations = np.arange(0, num_iterations)\n\nprint(num_iterations)",
      "metadata": {
        "trusted": true
      },
      "execution_count": 38,
      "outputs": [
        {
          "name": "stdout",
          "text": "79120\n",
          "output_type": "stream"
        }
      ]
    },
    {
      "cell_type": "code",
      "source": "#Minimize 2nd NN\nnum_iterations = 0\ncosts = []\nwhile 1 - NN2.costFunction(X, y) < .999:\n    dJdW1, dJdW2 = NN2.costFunctionPrime(X, y)\n    NN2.W1 = NN2.W1 - scalar*dJdW1\n    NN2.W2 = NN2.W2 - scalar*dJdW2\n    cost = NN2.costFunction(X, y)\n    costs.append(cost)\n    num_iterations += 1\niterations = np.arange(0, num_iterations)\n\nprint(num_iterations)",
      "metadata": {
        "trusted": true
      },
      "execution_count": 49,
      "outputs": [
        {
          "name": "stdout",
          "text": "851415\n",
          "output_type": "stream"
        }
      ]
    },
    {
      "cell_type": "code",
      "source": "theta1 =[NN1.W1, NN1.W2]\ntheta1",
      "metadata": {
        "trusted": true
      },
      "execution_count": 50,
      "outputs": [
        {
          "execution_count": 50,
          "output_type": "execute_result",
          "data": {
            "text/plain": "[array([[-0.50016294,  1.83373575,  1.74573774],\n        [-0.45039726, -0.725871  , -0.28491439]]),\n array([[-1.42452691],\n        [ 1.7284775 ],\n        [ 1.4297248 ]])]"
          },
          "metadata": {}
        }
      ]
    },
    {
      "cell_type": "code",
      "source": "theta2 =[NN2.W1, NN2.W2]\ntheta2",
      "metadata": {
        "trusted": true
      },
      "execution_count": 51,
      "outputs": [
        {
          "execution_count": 51,
          "output_type": "execute_result",
          "data": {
            "text/plain": "[array([[ 1.46511726,  2.36066263,  1.31322038],\n        [ 0.93358441, -7.19788173,  1.30397155]]),\n array([[0.31747074],\n        [1.57732184],\n        [0.96124439]])]"
          },
          "metadata": {}
        }
      ]
    },
    {
      "cell_type": "code",
      "source": "t = np.arange(0,1.01,0.05)\nt",
      "metadata": {
        "trusted": true
      },
      "execution_count": 52,
      "outputs": [
        {
          "execution_count": 52,
          "output_type": "execute_result",
          "data": {
            "text/plain": "array([0.  , 0.05, 0.1 , 0.15, 0.2 , 0.25, 0.3 , 0.35, 0.4 , 0.45, 0.5 ,\n       0.55, 0.6 , 0.65, 0.7 , 0.75, 0.8 , 0.85, 0.9 , 0.95, 1.  ])"
          },
          "metadata": {}
        }
      ]
    },
    {
      "cell_type": "code",
      "source": "w_hat_list = []\nfor time in t:\n    w_hat_1 = (1-time)*theta1[0] + time*theta2[0]\n    w_hat_2 = (1-time)*theta1[1] + time*theta2[1]\n    w_hat = [w_hat_1, w_hat_2]\n    w_hat_list.append(w_hat)",
      "metadata": {
        "trusted": true
      },
      "execution_count": 53,
      "outputs": []
    },
    {
      "cell_type": "code",
      "source": "NN_temp = Neural_Network()",
      "metadata": {
        "trusted": true
      },
      "execution_count": 54,
      "outputs": []
    },
    {
      "cell_type": "code",
      "source": "costs = []\niterations = np.arange(0, len(t))\n\nfor i in range(len(t)):\n    NN_temp.W1 = w_hat_list[i][0]\n    NN_temp.W2 = w_hat_list[i][1]\n    cost = NN_temp.costFunction(X, y)\n    costs.append(cost)",
      "metadata": {
        "trusted": true
      },
      "execution_count": 55,
      "outputs": []
    },
    {
      "cell_type": "code",
      "source": "plt.plot(t, costs);\nplt.title(\"NN: Loss vs Time\")\nplt.xlabel(\"Time\");\nplt.ylabel(\"Loss\");",
      "metadata": {
        "trusted": true
      },
      "execution_count": 56,
      "outputs": [
        {
          "output_type": "display_data",
          "data": {
            "text/plain": "<Figure size 640x480 with 1 Axes>",
            "image/png": "[encoded data removed]"
          },
          "metadata": {}
        }
      ]
    },
    {
      "cell_type": "code",
      "source": "# def trainNN2(NN, X, y, c):\n#     cost = 1\n#     while cost > .001:\n#         yHat = NN.forward(X)\n#         cost = NN.costFunction(X, y)\n#         dJdW1, dJdW2 = NN.costFunctionPrime(X,y)\n#         NN.w1 = NN.w1-scalar*dJdW1\n#         NN.w2 = NN.w2-scalar*dJdW2\n#         NN.costList.append(cost)\n#     print(yHat, y)\n#     return NN",
      "metadata": {},
      "execution_count": null,
      "outputs": []
    },
    {
      "cell_type": "code",
      "source": "# def trainReluNN2(NN, X, y, c):\n#     cost = 1\n#     while cost > .01:\n#         yHat = NN.reluforward_HL(X)\n#         cost = NN.relucostFunction(X, y)\n#         dJdW1, dJdW2 = NN.relucostFunctionPrime(X,y)\n#         NN.W1 = NN.W1-c*dJdW1\n#         NN.W2 = NN.W2-c*dJdW2\n#         NN.costList.append(cost)\n#         c = np.random.uniform(low=.00001, high= .1)\n#     return NN",
      "metadata": {},
      "execution_count": null,
      "outputs": []
    },
    {
      "cell_type": "code",
      "source": "# def testNN(NN, X, y):\n#     print(\"Output:\", NN.reluforward_HL(X))\n#     print(\"Cost:\", NN.relucostFunction(X, y))",
      "metadata": {},
      "execution_count": null,
      "outputs": []
    }
  ]
}